{
 "cells": [
  {
   "cell_type": "code",
   "execution_count": 1,
   "id": "5b80d251",
   "metadata": {},
   "outputs": [],
   "source": [
    "import pandas as pd\n",
    "import numpy as np"
   ]
  },
  {
   "cell_type": "code",
   "execution_count": 3,
   "id": "9fb9e78e",
   "metadata": {},
   "outputs": [],
   "source": [
    "df = pd.read_csv('Earnings Calender above 500 Mil Mrkt Cap.csv')"
   ]
  },
  {
   "cell_type": "code",
   "execution_count": 4,
   "id": "c9153752",
   "metadata": {},
   "outputs": [
    {
     "data": {
      "text/html": [
       "<div>\n",
       "<style scoped>\n",
       "    .dataframe tbody tr th:only-of-type {\n",
       "        vertical-align: middle;\n",
       "    }\n",
       "\n",
       "    .dataframe tbody tr th {\n",
       "        vertical-align: top;\n",
       "    }\n",
       "\n",
       "    .dataframe thead th {\n",
       "        text-align: right;\n",
       "    }\n",
       "</style>\n",
       "<table border=\"1\" class=\"dataframe\">\n",
       "  <thead>\n",
       "    <tr style=\"text-align: right;\">\n",
       "      <th></th>\n",
       "      <th>Unnamed: 0</th>\n",
       "      <th>Symbol</th>\n",
       "      <th>Release</th>\n",
       "      <th>Date</th>\n",
       "      <th>MarketCap</th>\n",
       "    </tr>\n",
       "  </thead>\n",
       "  <tbody>\n",
       "    <tr>\n",
       "      <th>0</th>\n",
       "      <td>0</td>\n",
       "      <td>ORCL</td>\n",
       "      <td>time-not-supplied</td>\n",
       "      <td>2023-12-11</td>\n",
       "      <td>$282,396,757,060</td>\n",
       "    </tr>\n",
       "    <tr>\n",
       "      <th>1</th>\n",
       "      <td>1</td>\n",
       "      <td>CASY</td>\n",
       "      <td>time-not-supplied</td>\n",
       "      <td>2023-12-11</td>\n",
       "      <td>$10,551,474,109</td>\n",
       "    </tr>\n",
       "    <tr>\n",
       "      <th>2</th>\n",
       "      <td>2</td>\n",
       "      <td>AZUL</td>\n",
       "      <td>time-not-supplied</td>\n",
       "      <td>2023-12-11</td>\n",
       "      <td>$950,932,986</td>\n",
       "    </tr>\n",
       "    <tr>\n",
       "      <th>3</th>\n",
       "      <td>3</td>\n",
       "      <td>BLBD</td>\n",
       "      <td>time-not-supplied</td>\n",
       "      <td>2023-12-11</td>\n",
       "      <td>$800,270,798</td>\n",
       "    </tr>\n",
       "    <tr>\n",
       "      <th>4</th>\n",
       "      <td>4</td>\n",
       "      <td>QD</td>\n",
       "      <td>time-not-supplied</td>\n",
       "      <td>2023-12-11</td>\n",
       "      <td>$503,974,527</td>\n",
       "    </tr>\n",
       "    <tr>\n",
       "      <th>...</th>\n",
       "      <td>...</td>\n",
       "      <td>...</td>\n",
       "      <td>...</td>\n",
       "      <td>...</td>\n",
       "      <td>...</td>\n",
       "    </tr>\n",
       "    <tr>\n",
       "      <th>59</th>\n",
       "      <td>59</td>\n",
       "      <td>GBX</td>\n",
       "      <td>time-not-supplied</td>\n",
       "      <td>2024-01-05</td>\n",
       "      <td>$1,448,209,137</td>\n",
       "    </tr>\n",
       "    <tr>\n",
       "      <th>60</th>\n",
       "      <td>60</td>\n",
       "      <td>JEF</td>\n",
       "      <td>time-after-hours</td>\n",
       "      <td>2024-01-08</td>\n",
       "      <td>$8,448,674,001</td>\n",
       "    </tr>\n",
       "    <tr>\n",
       "      <th>61</th>\n",
       "      <td>61</td>\n",
       "      <td>CMC</td>\n",
       "      <td>time-pre-market</td>\n",
       "      <td>2024-01-08</td>\n",
       "      <td>$5,637,167,200</td>\n",
       "    </tr>\n",
       "    <tr>\n",
       "      <th>62</th>\n",
       "      <td>62</td>\n",
       "      <td>HELE</td>\n",
       "      <td>time-pre-market</td>\n",
       "      <td>2024-01-08</td>\n",
       "      <td>$2,753,683,797</td>\n",
       "    </tr>\n",
       "    <tr>\n",
       "      <th>63</th>\n",
       "      <td>63</td>\n",
       "      <td>ACCD</td>\n",
       "      <td>time-after-hours</td>\n",
       "      <td>2024-01-08</td>\n",
       "      <td>$849,226,618</td>\n",
       "    </tr>\n",
       "  </tbody>\n",
       "</table>\n",
       "<p>64 rows × 5 columns</p>\n",
       "</div>"
      ],
      "text/plain": [
       "    Unnamed: 0 Symbol            Release        Date         MarketCap\n",
       "0            0   ORCL  time-not-supplied  2023-12-11  $282,396,757,060\n",
       "1            1   CASY  time-not-supplied  2023-12-11   $10,551,474,109\n",
       "2            2   AZUL  time-not-supplied  2023-12-11      $950,932,986\n",
       "3            3   BLBD  time-not-supplied  2023-12-11      $800,270,798\n",
       "4            4     QD  time-not-supplied  2023-12-11      $503,974,527\n",
       "..         ...    ...                ...         ...               ...\n",
       "59          59    GBX  time-not-supplied  2024-01-05    $1,448,209,137\n",
       "60          60    JEF   time-after-hours  2024-01-08    $8,448,674,001\n",
       "61          61    CMC    time-pre-market  2024-01-08    $5,637,167,200\n",
       "62          62   HELE    time-pre-market  2024-01-08    $2,753,683,797\n",
       "63          63   ACCD   time-after-hours  2024-01-08      $849,226,618\n",
       "\n",
       "[64 rows x 5 columns]"
      ]
     },
     "execution_count": 4,
     "metadata": {},
     "output_type": "execute_result"
    }
   ],
   "source": [
    "df"
   ]
  },
  {
   "cell_type": "code",
   "execution_count": 5,
   "id": "74053f3d",
   "metadata": {},
   "outputs": [],
   "source": [
    "df2 = pd.read_csv('Earnings Calender above 500 Mil Mrkt Cap.csv')"
   ]
  },
  {
   "cell_type": "code",
   "execution_count": 7,
   "id": "bdd6a3fc",
   "metadata": {},
   "outputs": [],
   "source": [
    "# Vertical Concat\n",
    "vertical_concat = pd.concat([df, df2], axis=0)"
   ]
  },
  {
   "cell_type": "code",
   "execution_count": 8,
   "id": "6d09f6e4",
   "metadata": {},
   "outputs": [
    {
     "data": {
      "text/html": [
       "<div>\n",
       "<style scoped>\n",
       "    .dataframe tbody tr th:only-of-type {\n",
       "        vertical-align: middle;\n",
       "    }\n",
       "\n",
       "    .dataframe tbody tr th {\n",
       "        vertical-align: top;\n",
       "    }\n",
       "\n",
       "    .dataframe thead th {\n",
       "        text-align: right;\n",
       "    }\n",
       "</style>\n",
       "<table border=\"1\" class=\"dataframe\">\n",
       "  <thead>\n",
       "    <tr style=\"text-align: right;\">\n",
       "      <th></th>\n",
       "      <th>Unnamed: 0</th>\n",
       "      <th>Symbol</th>\n",
       "      <th>Release</th>\n",
       "      <th>Date</th>\n",
       "      <th>MarketCap</th>\n",
       "    </tr>\n",
       "  </thead>\n",
       "  <tbody>\n",
       "    <tr>\n",
       "      <th>0</th>\n",
       "      <td>0</td>\n",
       "      <td>ORCL</td>\n",
       "      <td>time-not-supplied</td>\n",
       "      <td>2023-12-11</td>\n",
       "      <td>$282,396,757,060</td>\n",
       "    </tr>\n",
       "    <tr>\n",
       "      <th>1</th>\n",
       "      <td>1</td>\n",
       "      <td>CASY</td>\n",
       "      <td>time-not-supplied</td>\n",
       "      <td>2023-12-11</td>\n",
       "      <td>$10,551,474,109</td>\n",
       "    </tr>\n",
       "    <tr>\n",
       "      <th>2</th>\n",
       "      <td>2</td>\n",
       "      <td>AZUL</td>\n",
       "      <td>time-not-supplied</td>\n",
       "      <td>2023-12-11</td>\n",
       "      <td>$950,932,986</td>\n",
       "    </tr>\n",
       "    <tr>\n",
       "      <th>3</th>\n",
       "      <td>3</td>\n",
       "      <td>BLBD</td>\n",
       "      <td>time-not-supplied</td>\n",
       "      <td>2023-12-11</td>\n",
       "      <td>$800,270,798</td>\n",
       "    </tr>\n",
       "    <tr>\n",
       "      <th>4</th>\n",
       "      <td>4</td>\n",
       "      <td>QD</td>\n",
       "      <td>time-not-supplied</td>\n",
       "      <td>2023-12-11</td>\n",
       "      <td>$503,974,527</td>\n",
       "    </tr>\n",
       "    <tr>\n",
       "      <th>...</th>\n",
       "      <td>...</td>\n",
       "      <td>...</td>\n",
       "      <td>...</td>\n",
       "      <td>...</td>\n",
       "      <td>...</td>\n",
       "    </tr>\n",
       "    <tr>\n",
       "      <th>59</th>\n",
       "      <td>59</td>\n",
       "      <td>GBX</td>\n",
       "      <td>time-not-supplied</td>\n",
       "      <td>2024-01-05</td>\n",
       "      <td>$1,448,209,137</td>\n",
       "    </tr>\n",
       "    <tr>\n",
       "      <th>60</th>\n",
       "      <td>60</td>\n",
       "      <td>JEF</td>\n",
       "      <td>time-after-hours</td>\n",
       "      <td>2024-01-08</td>\n",
       "      <td>$8,448,674,001</td>\n",
       "    </tr>\n",
       "    <tr>\n",
       "      <th>61</th>\n",
       "      <td>61</td>\n",
       "      <td>CMC</td>\n",
       "      <td>time-pre-market</td>\n",
       "      <td>2024-01-08</td>\n",
       "      <td>$5,637,167,200</td>\n",
       "    </tr>\n",
       "    <tr>\n",
       "      <th>62</th>\n",
       "      <td>62</td>\n",
       "      <td>HELE</td>\n",
       "      <td>time-pre-market</td>\n",
       "      <td>2024-01-08</td>\n",
       "      <td>$2,753,683,797</td>\n",
       "    </tr>\n",
       "    <tr>\n",
       "      <th>63</th>\n",
       "      <td>63</td>\n",
       "      <td>ACCD</td>\n",
       "      <td>time-after-hours</td>\n",
       "      <td>2024-01-08</td>\n",
       "      <td>$849,226,618</td>\n",
       "    </tr>\n",
       "  </tbody>\n",
       "</table>\n",
       "<p>128 rows × 5 columns</p>\n",
       "</div>"
      ],
      "text/plain": [
       "    Unnamed: 0 Symbol            Release        Date         MarketCap\n",
       "0            0   ORCL  time-not-supplied  2023-12-11  $282,396,757,060\n",
       "1            1   CASY  time-not-supplied  2023-12-11   $10,551,474,109\n",
       "2            2   AZUL  time-not-supplied  2023-12-11      $950,932,986\n",
       "3            3   BLBD  time-not-supplied  2023-12-11      $800,270,798\n",
       "4            4     QD  time-not-supplied  2023-12-11      $503,974,527\n",
       "..         ...    ...                ...         ...               ...\n",
       "59          59    GBX  time-not-supplied  2024-01-05    $1,448,209,137\n",
       "60          60    JEF   time-after-hours  2024-01-08    $8,448,674,001\n",
       "61          61    CMC    time-pre-market  2024-01-08    $5,637,167,200\n",
       "62          62   HELE    time-pre-market  2024-01-08    $2,753,683,797\n",
       "63          63   ACCD   time-after-hours  2024-01-08      $849,226,618\n",
       "\n",
       "[128 rows x 5 columns]"
      ]
     },
     "execution_count": 8,
     "metadata": {},
     "output_type": "execute_result"
    }
   ],
   "source": [
    "vertical_concat"
   ]
  },
  {
   "cell_type": "code",
   "execution_count": 13,
   "id": "38d70070",
   "metadata": {},
   "outputs": [],
   "source": [
    "# import OS module\n",
    "import os\n",
    " \n",
    "# Get the list of all files and directories\n",
    "path = os.getcwd()\n",
    "dir_list = os.listdir(path)"
   ]
  },
  {
   "cell_type": "code",
   "execution_count": 14,
   "id": "21eb5a41",
   "metadata": {},
   "outputs": [
    {
     "data": {
      "text/plain": [
       "['.git',\n",
       " '.gitignore',\n",
       " '.ipynb_checkpoints',\n",
       " 'Earnings Calender above 500 Mil Mrkt Cap.csv',\n",
       " 'myenv',\n",
       " 'NASDAQ_Scraper.py',\n",
       " 'Past_Earnings_Calendar.py',\n",
       " 'README.md',\n",
       " 'requirements.txt',\n",
       " 'Untitled.ipynb']"
      ]
     },
     "execution_count": 14,
     "metadata": {},
     "output_type": "execute_result"
    }
   ],
   "source": [
    "dir_list"
   ]
  },
  {
   "cell_type": "code",
   "execution_count": 16,
   "id": "9df48c6a",
   "metadata": {},
   "outputs": [
    {
     "name": "stdout",
     "output_type": "stream",
     "text": [
      "not there!\n"
     ]
    }
   ],
   "source": [
    "csvFile = 'Earnings Calender above 500 Mil Mrkt Cap 1.csv'\n",
    "if csvFile not in dir_list:\n",
    "    print('not there!')"
   ]
  },
  {
   "cell_type": "code",
   "execution_count": null,
   "id": "56daeaf5",
   "metadata": {},
   "outputs": [],
   "source": [
    "def checkFile(csvFile, dir_list):\n",
    "    if csvFile in dir_list: \n",
    "        # If it is there read the data in\n",
    "        df = pd.read_csv(csvFile)\n",
    "    else:\n",
    "        # If it aint there\n",
    "        '''\n",
    "        Save the dictionary as a new dataframe and create new csv file from that\n",
    "        '''"
   ]
  },
  {
   "cell_type": "code",
   "execution_count": 17,
   "id": "fba9cd6c",
   "metadata": {},
   "outputs": [
    {
     "name": "stdout",
     "output_type": "stream",
     "text": [
      "   ID   Name\n",
      "0   1  Alice\n",
      "1   2    Bob\n"
     ]
    }
   ],
   "source": [
    "import pandas as pd\n",
    "\n",
    "# Sample DataFrames\n",
    "df1 = pd.DataFrame({'ID': [1, 2, 3], 'Name': ['Alice', 'Bob', 'Charlie']})\n",
    "df2 = pd.DataFrame({'ID': [3, 4, 5], 'Name': ['Charlie', 'David', 'Eve']})\n",
    "\n",
    "# Merge DataFrames on the 'ID' column\n",
    "merged_df = pd.merge(df1, df2, how='outer', indicator=True).query('_merge == \"left_only\"').drop('_merge', axis=1)\n",
    "\n",
    "print(merged_df)"
   ]
  },
  {
   "cell_type": "code",
   "execution_count": null,
   "id": "ac7d9d16",
   "metadata": {},
   "outputs": [],
   "source": []
  }
 ],
 "metadata": {
  "kernelspec": {
   "display_name": "Python 3 (ipykernel)",
   "language": "python",
   "name": "python3"
  },
  "language_info": {
   "codemirror_mode": {
    "name": "ipython",
    "version": 3
   },
   "file_extension": ".py",
   "mimetype": "text/x-python",
   "name": "python",
   "nbconvert_exporter": "python",
   "pygments_lexer": "ipython3",
   "version": "3.9.12"
  }
 },
 "nbformat": 4,
 "nbformat_minor": 5
}
